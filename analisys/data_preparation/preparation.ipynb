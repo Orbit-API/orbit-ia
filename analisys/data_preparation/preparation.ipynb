{
  "nbformat": 4,
  "nbformat_minor": 0,
  "metadata": {
    "colab": {
      "name": "preparation.ipynb",
      "provenance": []
    },
    "kernelspec": {
      "name": "python3",
      "display_name": "Python 3"
    },
    "language_info": {
      "name": "python"
    }
  },
  "cells": [
    {
      "cell_type": "markdown",
      "source": [
        "##**DATA PREPARATION & SYSTEM HEALTH**\n",
        "\n",
        "Com a estruturação do sistema de monitoramento concluída, foi possível captar dados provenientes da aplicação alvo, e armazená-los num banco de dados para uso futuro. Nesta etapa os valores coletados foram ajustados em seu *type* para a utilização dos mesmos pelo modelo. Também foi ajustado o valor do campo '*available*', a fim de representar uma base estatística que servirá como guia de probabilidade para a IA."
      ],
      "metadata": {
        "id": "6_1n7B5DTVJb"
      }
    },
    {
      "cell_type": "code",
      "execution_count": 48,
      "metadata": {
        "id": "__wcV6z0zWTu"
      },
      "outputs": [],
      "source": [
        "from matplotlib import pyplot as plt\n",
        "import pandas as pd"
      ]
    },
    {
      "cell_type": "code",
      "source": [
        "df = pd.read_csv('metrics_7.csv')"
      ],
      "metadata": {
        "id": "JAL5ELws1lcf"
      },
      "execution_count": 49,
      "outputs": []
    },
    {
      "cell_type": "code",
      "source": [
        "cols = ['time_response_get',\n",
        "'time_response_post',\n",
        "'memory_used',\n",
        "'heap_used',\n",
        "'non_heap_used',\n",
        "'cpu_usage']\n",
        "\n",
        "correlation_weight = {'time_response_get': 0.35570470566746554,\n",
        "'time_response_post': 0.3885479724010192,\n",
        "'memory_used': 0.7943337525975255,\n",
        "'heap_used': 0.7184825696993615,\n",
        "'non_heap_used': 0.8929562798033213,\n",
        "'cpu_usage': 0.7626769865456956}\n",
        "\n",
        "df = df.fillna(0)\n",
        "df = df.astype({'time_response_get': float, \n",
        "                'time_response_post': float, \n",
        "                'cpu_usage': float, \n",
        "                'available': float, \n",
        "                'memory_used': float, \n",
        "                'heap_used': float, \n",
        "                'non_heap_used': float\n",
        "                })"
      ],
      "metadata": {
        "id": "Ijlz8Vik1lfc"
      },
      "execution_count": 50,
      "outputs": []
    },
    {
      "cell_type": "code",
      "source": [
        "i = 0\n",
        "while i < len(df['time_response_get']):\n",
        "  available_pct = 0\n",
        "  for column in cols:\n",
        "    metric_percent = (df[column][i] * 99) / df[column][90]\n",
        "    available_pct = available_pct + ((metric_percent * (1 + correlation_weight[column])) / 2)\n",
        "  available_pct = 100 - (available_pct / len(cols))\n",
        "  df['available'][i] = available_pct\n",
        "  i = i + 1"
      ],
      "metadata": {
        "colab": {
          "base_uri": "https://localhost:8080/"
        },
        "id": "kqf1cnzJ1lhs",
        "outputId": "515455cc-6e3e-41f4-fade-2f418620bacf"
      },
      "execution_count": 51,
      "outputs": [
        {
          "output_type": "stream",
          "name": "stderr",
          "text": [
            "/usr/local/lib/python3.7/dist-packages/ipykernel_launcher.py:8: SettingWithCopyWarning: \n",
            "A value is trying to be set on a copy of a slice from a DataFrame\n",
            "\n",
            "See the caveats in the documentation: https://pandas.pydata.org/pandas-docs/stable/user_guide/indexing.html#returning-a-view-versus-a-copy\n",
            "  \n"
          ]
        }
      ]
    },
    {
      "cell_type": "code",
      "source": [
        "plt.plot(list(df['available'][:91]), label='Availability')\n",
        "plt.legend(loc='upper right');"
      ],
      "metadata": {
        "colab": {
          "base_uri": "https://localhost:8080/",
          "height": 265
        },
        "id": "Sn2m3B6p1lpw",
        "outputId": "a3c94fcd-3962-4e31-a04d-2286eb98da05"
      },
      "execution_count": 52,
      "outputs": [
        {
          "output_type": "display_data",
          "data": {
            "text/plain": [
              "<Figure size 432x288 with 1 Axes>"
            ],
            "image/png": "[encoded data removed]"
          },
          "metadata": {
            "needs_background": "light"
          }
        }
      ]
    }
  ]
}
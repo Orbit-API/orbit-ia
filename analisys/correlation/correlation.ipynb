{
  "nbformat": 4,
  "nbformat_minor": 0,
  "metadata": {
    "colab": {
      "name": "correlation.ipynb",
      "provenance": []
    },
    "kernelspec": {
      "name": "python3",
      "display_name": "Python 3"
    },
    "language_info": {
      "name": "python"
    }
  },
  "cells": [
    {
      "cell_type": "markdown",
      "source": [
        "##**Importando ferramentas**"
      ],
      "metadata": {
        "id": "PZHe_yt7KmEM"
      }
    },
    {
      "cell_type": "code",
      "execution_count": null,
      "metadata": {
        "id": "C3i98dlhHqHq"
      },
      "outputs": [],
      "source": [
        "from matplotlib import pyplot as plt\n",
        "import pandas as pd\n",
        "import numpy as np\n",
        "from statsmodels.graphics.tsaplots import plot_acf"
      ]
    },
    {
      "cell_type": "markdown",
      "source": [
        "##**Importação dos dados**"
      ],
      "metadata": {
        "id": "c3FiPS8iLTTU"
      }
    },
    {
      "cell_type": "code",
      "source": [
        "df = pd.read_csv('metrics_7.csv')\n",
        "df.head()"
      ],
      "metadata": {
        "id": "MWx1bG_gHtAz",
        "colab": {
          "base_uri": "https://localhost:8080/",
          "height": 270
        },
        "outputId": "65739832-9d7d-49bb-d411-23962615af0d"
      },
      "execution_count": null,
      "outputs": [
        {
          "output_type": "execute_result",
          "data": {
            "text/plain": [
              "                        _id  available  cpu_usage  heap_used  memory_used  \\\n",
              "0  627cefdbf7301dd01a1e36b2          1        0.0        0.0          0.0   \n",
              "1  627cefe7f7301dd01a1e36b3          1        0.0        0.0          0.0   \n",
              "2  628f5f6b52016e4226c5a3da          1        0.0        0.0          0.0   \n",
              "3  628f5ffd9dc9c74e6963bf69          1        0.0        0.0          0.0   \n",
              "4  628f60089dc9c74e6963bf6a          1        0.0        0.0          0.0   \n",
              "\n",
              "   non_heap_used          time  time_response_get  time_response_post  \n",
              "0            0.0  1.652355e+09                0.0                 0.0  \n",
              "1            0.0  1.652355e+09                0.0                 0.0  \n",
              "2            0.0  1.653563e+09                0.0                 0.0  \n",
              "3            0.0  1.653563e+09                0.0                 0.0  \n",
              "4            0.0  1.653563e+09                0.0                 0.0  "
            ],
            "text/html": [
              "\n",
              "  <div id=\"df-25e68a87-9f90-4c49-a1b0-ce73751e250c\">\n",
              "    <div class=\"colab-df-container\">\n",
              "      <div>\n",
              "<style scoped>\n",
              "    .dataframe tbody tr th:only-of-type {\n",
              "        vertical-align: middle;\n",
              "    }\n",
              "\n",
              "    .dataframe tbody tr th {\n",
              "        vertical-align: top;\n",
              "    }\n",
              "\n",
              "    .dataframe thead th {\n",
              "        text-align: right;\n",
              "    }\n",
              "</style>\n",
              "<table border=\"1\" class=\"dataframe\">\n",
              "  <thead>\n",
              "    <tr style=\"text-align: right;\">\n",
              "      <th></th>\n",
              "      <th>_id</th>\n",
              "      <th>available</th>\n",
              "      <th>cpu_usage</th>\n",
              "      <th>heap_used</th>\n",
              "      <th>memory_used</th>\n",
              "      <th>non_heap_used</th>\n",
              "      <th>time</th>\n",
              "      <th>time_response_get</th>\n",
              "      <th>time_response_post</th>\n",
              "    </tr>\n",
              "  </thead>\n",
              "  <tbody>\n",
              "    <tr>\n",
              "      <th>0</th>\n",
              "      <td>627cefdbf7301dd01a1e36b2</td>\n",
              "      <td>1</td>\n",
              "      <td>0.0</td>\n",
              "      <td>0.0</td>\n",
              "      <td>0.0</td>\n",
              "      <td>0.0</td>\n",
              "      <td>1.652355e+09</td>\n",
              "      <td>0.0</td>\n",
              "      <td>0.0</td>\n",
              "    </tr>\n",
              "    <tr>\n",
              "      <th>1</th>\n",
              "      <td>627cefe7f7301dd01a1e36b3</td>\n",
              "      <td>1</td>\n",
              "      <td>0.0</td>\n",
              "      <td>0.0</td>\n",
              "      <td>0.0</td>\n",
              "      <td>0.0</td>\n",
              "      <td>1.652355e+09</td>\n",
              "      <td>0.0</td>\n",
              "      <td>0.0</td>\n",
              "    </tr>\n",
              "    <tr>\n",
              "      <th>2</th>\n",
              "      <td>628f5f6b52016e4226c5a3da</td>\n",
              "      <td>1</td>\n",
              "      <td>0.0</td>\n",
              "      <td>0.0</td>\n",
              "      <td>0.0</td>\n",
              "      <td>0.0</td>\n",
              "      <td>1.653563e+09</td>\n",
              "      <td>0.0</td>\n",
              "      <td>0.0</td>\n",
              "    </tr>\n",
              "    <tr>\n",
              "      <th>3</th>\n",
              "      <td>628f5ffd9dc9c74e6963bf69</td>\n",
              "      <td>1</td>\n",
              "      <td>0.0</td>\n",
              "      <td>0.0</td>\n",
              "      <td>0.0</td>\n",
              "      <td>0.0</td>\n",
              "      <td>1.653563e+09</td>\n",
              "      <td>0.0</td>\n",
              "      <td>0.0</td>\n",
              "    </tr>\n",
              "    <tr>\n",
              "      <th>4</th>\n",
              "      <td>628f60089dc9c74e6963bf6a</td>\n",
              "      <td>1</td>\n",
              "      <td>0.0</td>\n",
              "      <td>0.0</td>\n",
              "      <td>0.0</td>\n",
              "      <td>0.0</td>\n",
              "      <td>1.653563e+09</td>\n",
              "      <td>0.0</td>\n",
              "      <td>0.0</td>\n",
              "    </tr>\n",
              "  </tbody>\n",
              "</table>\n",
              "</div>\n",
              "      <button class=\"colab-df-convert\" onclick=\"convertToInteractive('df-25e68a87-9f90-4c49-a1b0-ce73751e250c')\"\n",
              "              title=\"Convert this dataframe to an interactive table.\"\n",
              "              style=\"display:none;\">\n",
              "        \n",
              "  <svg xmlns=\"http://www.w3.org/2000/svg\" height=\"24px\"viewBox=\"0 0 24 24\"\n",
              "       width=\"24px\">\n",
              "    <path d=\"M0 0h24v24H0V0z\" fill=\"none\"/>\n",
              "    <path d=\"M18.56 5.44l.94 2.06.94-2.06 2.06-.94-2.06-.94-.94-2.06-.94 2.06-2.06.94zm-11 1L8.5 8.5l.94-2.06 2.06-.94-2.06-.94L8.5 2.5l-.94 2.06-2.06.94zm10 10l.94 2.06.94-2.06 2.06-.94-2.06-.94-.94-2.06-.94 2.06-2.06.94z\"/><path d=\"M17.41 7.96l-1.37-1.37c-.4-.4-.92-.59-1.43-.59-.52 0-1.04.2-1.43.59L10.3 9.45l-7.72 7.72c-.78.78-.78 2.05 0 2.83L4 21.41c.39.39.9.59 1.41.59.51 0 1.02-.2 1.41-.59l7.78-7.78 2.81-2.81c.8-.78.8-2.07 0-2.86zM5.41 20L4 18.59l7.72-7.72 1.47 1.35L5.41 20z\"/>\n",
              "  </svg>\n",
              "      </button>\n",
              "      \n",
              "  <style>\n",
              "    .colab-df-container {\n",
              "      display:flex;\n",
              "      flex-wrap:wrap;\n",
              "      gap: 12px;\n",
              "    }\n",
              "\n",
              "    .colab-df-convert {\n",
              "      background-color: #E8F0FE;\n",
              "      border: none;\n",
              "      border-radius: 50%;\n",
              "      cursor: pointer;\n",
              "      display: none;\n",
              "      fill: #1967D2;\n",
              "      height: 32px;\n",
              "      padding: 0 0 0 0;\n",
              "      width: 32px;\n",
              "    }\n",
              "\n",
              "    .colab-df-convert:hover {\n",
              "      background-color: #E2EBFA;\n",
              "      box-shadow: 0px 1px 2px rgba(60, 64, 67, 0.3), 0px 1px 3px 1px rgba(60, 64, 67, 0.15);\n",
              "      fill: #174EA6;\n",
              "    }\n",
              "\n",
              "    [theme=dark] .colab-df-convert {\n",
              "      background-color: #3B4455;\n",
              "      fill: #D2E3FC;\n",
              "    }\n",
              "\n",
              "    [theme=dark] .colab-df-convert:hover {\n",
              "      background-color: #434B5C;\n",
              "      box-shadow: 0px 1px 3px 1px rgba(0, 0, 0, 0.15);\n",
              "      filter: drop-shadow(0px 1px 2px rgba(0, 0, 0, 0.3));\n",
              "      fill: #FFFFFF;\n",
              "    }\n",
              "  </style>\n",
              "\n",
              "      <script>\n",
              "        const buttonEl =\n",
              "          document.querySelector('#df-25e68a87-9f90-4c49-a1b0-ce73751e250c button.colab-df-convert');\n",
              "        buttonEl.style.display =\n",
              "          google.colab.kernel.accessAllowed ? 'block' : 'none';\n",
              "\n",
              "        async function convertToInteractive(key) {\n",
              "          const element = document.querySelector('#df-25e68a87-9f90-4c49-a1b0-ce73751e250c');\n",
              "          const dataTable =\n",
              "            await google.colab.kernel.invokeFunction('convertToInteractive',\n",
              "                                                     [key], {});\n",
              "          if (!dataTable) return;\n",
              "\n",
              "          const docLinkHtml = 'Like what you see? Visit the ' +\n",
              "            '<a target=\"_blank\" href=https://colab.research.google.com/notebooks/data_table.ipynb>data table notebook</a>'\n",
              "            + ' to learn more about interactive tables.';\n",
              "          element.innerHTML = '';\n",
              "          dataTable['output_type'] = 'display_data';\n",
              "          await google.colab.output.renderOutput(dataTable, element);\n",
              "          const docLink = document.createElement('div');\n",
              "          docLink.innerHTML = docLinkHtml;\n",
              "          element.appendChild(docLink);\n",
              "        }\n",
              "      </script>\n",
              "    </div>\n",
              "  </div>\n",
              "  "
            ]
          },
          "metadata": {},
          "execution_count": 22
        }
      ]
    },
    {
      "cell_type": "markdown",
      "source": [
        "##**Tratamento dos dados**"
      ],
      "metadata": {
        "id": "Mj_f9gzYMtSI"
      }
    },
    {
      "cell_type": "code",
      "source": [
        "cols = ['time_response_get',\n",
        "'time_response_post',\n",
        "'memory_used',\n",
        "'heap_used',\n",
        "'non_heap_used',\n",
        "'cpu_usage']\n",
        "\n",
        "df = df.fillna(0)\n",
        "df = df.astype({'time_response_get': float, \n",
        "                'time_response_post': float, \n",
        "                'cpu_usage': float, \n",
        "                'available': float, \n",
        "                'memory_used': float, \n",
        "                'heap_used': float, \n",
        "                'non_heap_used': float\n",
        "                })\n",
        "\n",
        "i = 0\n",
        "while i < len(df['time_response_get']):\n",
        "  col_values = []\n",
        "  for column in cols:\n",
        "    if df[column][i] != 0:\n",
        "      col_values.append(df[column][i])\n",
        "  if len(col_values) == 0:\n",
        "    df['available'][i] = 0\n",
        "  else:\n",
        "    df['available'][i] = 1\n",
        "  i = i + 1\n",
        "\n",
        "df['available'].unique()"
      ],
      "metadata": {
        "id": "wtQP0nzZH1xC",
        "colab": {
          "base_uri": "https://localhost:8080/"
        },
        "outputId": "715c2148-c377-43f2-84ff-8b0af9c30e20"
      },
      "execution_count": null,
      "outputs": [
        {
          "output_type": "stream",
          "name": "stderr",
          "text": [
            "/usr/local/lib/python3.7/dist-packages/ipykernel_launcher.py:25: SettingWithCopyWarning: \n",
            "A value is trying to be set on a copy of a slice from a DataFrame\n",
            "\n",
            "See the caveats in the documentation: https://pandas.pydata.org/pandas-docs/stable/user_guide/indexing.html#returning-a-view-versus-a-copy\n",
            "/usr/local/lib/python3.7/dist-packages/ipykernel_launcher.py:27: SettingWithCopyWarning: \n",
            "A value is trying to be set on a copy of a slice from a DataFrame\n",
            "\n",
            "See the caveats in the documentation: https://pandas.pydata.org/pandas-docs/stable/user_guide/indexing.html#returning-a-view-versus-a-copy\n"
          ]
        },
        {
          "output_type": "execute_result",
          "data": {
            "text/plain": [
              "array([0., 1.])"
            ]
          },
          "metadata": {},
          "execution_count": 23
        }
      ]
    },
    {
      "cell_type": "markdown",
      "source": [
        "##**Plot da autocorrelação**"
      ],
      "metadata": {
        "id": "sHmRM9cTNhze"
      }
    },
    {
      "cell_type": "code",
      "source": [
        "plot_acf(df['time_response_get'], title='Time Response GET');"
      ],
      "metadata": {
        "colab": {
          "base_uri": "https://localhost:8080/",
          "height": 281
        },
        "id": "mxT2oR6KH9k3",
        "outputId": "8c2143db-2738-4564-b6c5-9e5ecbd36acf"
      },
      "execution_count": null,
      "outputs": [
        {
          "output_type": "display_data",
          "data": {
            "text/plain": [
              "<Figure size 432x288 with 1 Axes>"
            ],
            "image/png": "[encoded data removed]"
          },
          "metadata": {
            "needs_background": "light"
          }
        }
      ]
    },
    {
      "cell_type": "code",
      "source": [
        "plot_acf(df['time_response_post'], title='Time Response POST');"
      ],
      "metadata": {
        "colab": {
          "base_uri": "https://localhost:8080/",
          "height": 281
        },
        "id": "V-RbtGaSPdGm",
        "outputId": "7083dce6-bf08-4353-e77d-7093e1ff8641"
      },
      "execution_count": null,
      "outputs": [
        {
          "output_type": "display_data",
          "data": {
            "text/plain": [
              "<Figure size 432x288 with 1 Axes>"
            ],
            "image/png": "[encoded data removed]"
          },
          "metadata": {
            "needs_background": "light"
          }
        }
      ]
    },
    {
      "cell_type": "code",
      "source": [
        "plot_acf(df['cpu_usage'], title='CPU Usage');"
      ],
      "metadata": {
        "colab": {
          "base_uri": "https://localhost:8080/",
          "height": 281
        },
        "id": "9Lkx3UuPPdlZ",
        "outputId": "28e60b97-d839-4cb9-9831-c75736184f99"
      },
      "execution_count": null,
      "outputs": [
        {
          "output_type": "display_data",
          "data": {
            "text/plain": [
              "<Figure size 432x288 with 1 Axes>"
            ],
            "image/png": "[encoded data removed]"
          },
          "metadata": {
            "needs_background": "light"
          }
        }
      ]
    },
    {
      "cell_type": "code",
      "source": [
        "plot_acf(df['memory_used'], title='Memory Used');"
      ],
      "metadata": {
        "colab": {
          "base_uri": "https://localhost:8080/",
          "height": 281
        },
        "id": "7zpMhD3gPdoS",
        "outputId": "d546d654-76f8-4941-a5d2-a6f0ccf44c0f"
      },
      "execution_count": null,
      "outputs": [
        {
          "output_type": "display_data",
          "data": {
            "text/plain": [
              "<Figure size 432x288 with 1 Axes>"
            ],
            "image/png": "[encoded data removed]"
          },
          "metadata": {
            "needs_background": "light"
          }
        }
      ]
    },
    {
      "cell_type": "code",
      "source": [
        "plot_acf(df['heap_used'], title='Heap Used');"
      ],
      "metadata": {
        "colab": {
          "base_uri": "https://localhost:8080/",
          "height": 281
        },
        "id": "4FyEBJVEPdrG",
        "outputId": "21209e14-8eb4-47e4-9fa2-96fd6ea66853"
      },
      "execution_count": null,
      "outputs": [
        {
          "output_type": "display_data",
          "data": {
            "text/plain": [
              "<Figure size 432x288 with 1 Axes>"
            ],
            "image/png": "[encoded data removed]"
          },
          "metadata": {
            "needs_background": "light"
          }
        }
      ]
    },
    {
      "cell_type": "code",
      "source": [
        "plot_acf(df['non_heap_used'], title='Non Heap Used');"
      ],
      "metadata": {
        "colab": {
          "base_uri": "https://localhost:8080/",
          "height": 281
        },
        "id": "g-4F2AdMPduU",
        "outputId": "0e35c427-634c-43d9-9b6f-8738ec1cdad6"
      },
      "execution_count": null,
      "outputs": [
        {
          "output_type": "display_data",
          "data": {
            "text/plain": [
              "<Figure size 432x288 with 1 Axes>"
            ],
            "image/png": "[encoded data removed]"
          },
          "metadata": {
            "needs_background": "light"
          }
        }
      ]
    },
    {
      "cell_type": "markdown",
      "source": [
        "##**Cálculo de correlação entre colunas** "
      ],
      "metadata": {
        "id": "SMWQKoNBEKfB"
      }
    },
    {
      "cell_type": "code",
      "source": [
        "cols = ['time_response_get',\n",
        "'time_response_post',\n",
        "'memory_used',\n",
        "'heap_used',\n",
        "'non_heap_used',\n",
        "'cpu_usage', 'available']\n",
        "\n",
        "correlations = []\n",
        "for col1 in cols:\n",
        "  for col2 in cols:\n",
        "    if col1 != col2:\n",
        "      corr = np.corrcoef(df[col1], df[col2])[0][1]\n",
        "      if f'{col1}{col2}' not in correlations and f'{col2}{col1}' not in correlations:\n",
        "        correlations.append(f'{col1}{col2}')\n",
        "        correlations.append(f'{col2}{col1}')\n",
        "        print(f'CORRELAÇÃO ENTRE {col1} e {col2}: {corr}')"
      ],
      "metadata": {
        "id": "a9mt5zeDqm9w",
        "outputId": "5a0a0a34-1a88-4208-81ef-ac3d0c20d217",
        "colab": {
          "base_uri": "https://localhost:8080/"
        }
      },
      "execution_count": null,
      "outputs": [
        {
          "output_type": "stream",
          "name": "stdout",
          "text": [
            "CORRELAÇÃO ENTRE time_response_get e time_response_post: 0.21187186291127014\n",
            "CORRELAÇÃO ENTRE time_response_get e memory_used: 0.2516991382371547\n",
            "CORRELAÇÃO ENTRE time_response_get e heap_used: 0.2454689277674406\n",
            "CORRELAÇÃO ENTRE time_response_get e non_heap_used: 0.23482215380379065\n",
            "CORRELAÇÃO ENTRE time_response_get e cpu_usage: 0.3829583828048052\n",
            "CORRELAÇÃO ENTRE time_response_get e available: 0.35570470566746554\n",
            "CORRELAÇÃO ENTRE time_response_post e memory_used: 0.2405024733675622\n",
            "CORRELAÇÃO ENTRE time_response_post e heap_used: 0.23354782586505682\n",
            "CORRELAÇÃO ENTRE time_response_post e non_heap_used: 0.22769586739055667\n",
            "CORRELAÇÃO ENTRE time_response_post e cpu_usage: 0.39289082652131047\n",
            "CORRELAÇÃO ENTRE time_response_post e available: 0.3885479724010192\n",
            "CORRELAÇÃO ENTRE memory_used e heap_used: 0.9868221994227477\n",
            "CORRELAÇÃO ENTRE memory_used e non_heap_used: 0.8952023167697696\n",
            "CORRELAÇÃO ENTRE memory_used e cpu_usage: 0.7797362268919987\n",
            "CORRELAÇÃO ENTRE memory_used e available: 0.7943337525975255\n",
            "CORRELAÇÃO ENTRE heap_used e non_heap_used: 0.8119932505362307\n",
            "CORRELAÇÃO ENTRE heap_used e cpu_usage: 0.713541791606529\n",
            "CORRELAÇÃO ENTRE heap_used e available: 0.7184825696993615\n",
            "CORRELAÇÃO ENTRE non_heap_used e cpu_usage: 0.8549309156596829\n",
            "CORRELAÇÃO ENTRE non_heap_used e available: 0.8929562798033213\n",
            "CORRELAÇÃO ENTRE cpu_usage e available: 0.7626769865456956\n"
          ]
        }
      ]
    }
  ]
}